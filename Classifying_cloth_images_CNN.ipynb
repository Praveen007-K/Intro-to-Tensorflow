{
  "nbformat": 4,
  "nbformat_minor": 0,
  "metadata": {
    "colab": {
      "name": "Classifying_cloth_images_CNN.ipynb",
      "provenance": [],
      "collapsed_sections": []
    },
    "kernelspec": {
      "name": "python3",
      "display_name": "Python 3"
    },
    "language_info": {
      "name": "python"
    }
  },
  "cells": [
    {
      "cell_type": "markdown",
      "source": [
        "Dataset  : Fashion : [MNIST datset](https://github.com/zalandoresearch/fashion-mnist)"
      ],
      "metadata": {
        "id": "tEWRlh6849Jj"
      }
    },
    {
      "cell_type": "markdown",
      "source": [
        "Import required libraries"
      ],
      "metadata": {
        "id": "FQcTARGv5q_a"
      }
    },
    {
      "cell_type": "code",
      "source": [
        "!pip install -U tensorflow_datasets"
      ],
      "metadata": {
        "colab": {
          "base_uri": "https://localhost:8080/"
        },
        "id": "YJfmnORd5t8w",
        "outputId": "d15b7ab4-e3d3-4dd6-efed-0d1b623954d5"
      },
      "execution_count": 30,
      "outputs": [
        {
          "output_type": "stream",
          "name": "stdout",
          "text": [
            "Looking in indexes: https://pypi.org/simple, https://us-python.pkg.dev/colab-wheels/public/simple/\n",
            "Requirement already satisfied: tensorflow_datasets in /usr/local/lib/python3.7/dist-packages (4.5.2)\n",
            "Requirement already satisfied: termcolor in /usr/local/lib/python3.7/dist-packages (from tensorflow_datasets) (1.1.0)\n",
            "Requirement already satisfied: tqdm in /usr/local/lib/python3.7/dist-packages (from tensorflow_datasets) (4.64.0)\n",
            "Requirement already satisfied: numpy in /usr/local/lib/python3.7/dist-packages (from tensorflow_datasets) (1.21.6)\n",
            "Requirement already satisfied: protobuf>=3.12.2 in /usr/local/lib/python3.7/dist-packages (from tensorflow_datasets) (3.17.3)\n",
            "Requirement already satisfied: requests>=2.19.0 in /usr/local/lib/python3.7/dist-packages (from tensorflow_datasets) (2.23.0)\n",
            "Requirement already satisfied: six in /usr/local/lib/python3.7/dist-packages (from tensorflow_datasets) (1.15.0)\n",
            "Requirement already satisfied: tensorflow-metadata in /usr/local/lib/python3.7/dist-packages (from tensorflow_datasets) (1.8.0)\n",
            "Requirement already satisfied: typing-extensions in /usr/local/lib/python3.7/dist-packages (from tensorflow_datasets) (4.2.0)\n",
            "Requirement already satisfied: promise in /usr/local/lib/python3.7/dist-packages (from tensorflow_datasets) (2.3)\n",
            "Requirement already satisfied: dill in /usr/local/lib/python3.7/dist-packages (from tensorflow_datasets) (0.3.5.1)\n",
            "Requirement already satisfied: importlib-resources in /usr/local/lib/python3.7/dist-packages (from tensorflow_datasets) (5.7.1)\n",
            "Requirement already satisfied: absl-py in /usr/local/lib/python3.7/dist-packages (from tensorflow_datasets) (1.0.0)\n",
            "Requirement already satisfied: idna<3,>=2.5 in /usr/local/lib/python3.7/dist-packages (from requests>=2.19.0->tensorflow_datasets) (2.10)\n",
            "Requirement already satisfied: urllib3!=1.25.0,!=1.25.1,<1.26,>=1.21.1 in /usr/local/lib/python3.7/dist-packages (from requests>=2.19.0->tensorflow_datasets) (1.24.3)\n",
            "Requirement already satisfied: chardet<4,>=3.0.2 in /usr/local/lib/python3.7/dist-packages (from requests>=2.19.0->tensorflow_datasets) (3.0.4)\n",
            "Requirement already satisfied: certifi>=2017.4.17 in /usr/local/lib/python3.7/dist-packages (from requests>=2.19.0->tensorflow_datasets) (2022.5.18.1)\n",
            "Requirement already satisfied: zipp>=3.1.0 in /usr/local/lib/python3.7/dist-packages (from importlib-resources->tensorflow_datasets) (3.8.0)\n",
            "Requirement already satisfied: googleapis-common-protos<2,>=1.52.0 in /usr/local/lib/python3.7/dist-packages (from tensorflow-metadata->tensorflow_datasets) (1.56.1)\n"
          ]
        }
      ]
    },
    {
      "cell_type": "code",
      "source": [
        "import tensorflow as tf"
      ],
      "metadata": {
        "id": "1afo8vCe52N5"
      },
      "execution_count": 31,
      "outputs": []
    },
    {
      "cell_type": "code",
      "source": [
        "# Import tensorflow datasets\n",
        "import tensorflow_datasets as tfds\n",
        "tfds.disable_progress_bar()\n",
        "\n",
        "# Support libraries\n",
        "import math\n",
        "import numpy as np\n",
        "import matplotlib.pyplot as plt"
      ],
      "metadata": {
        "id": "-MrUzwDO58TU"
      },
      "execution_count": 32,
      "outputs": []
    },
    {
      "cell_type": "code",
      "source": [
        "import logging\n",
        "logger = tf.get_logger()\n",
        "logger.setLevel(logging.ERROR)"
      ],
      "metadata": {
        "id": "m2Gx0B_0IEzn"
      },
      "execution_count": 33,
      "outputs": []
    },
    {
      "cell_type": "markdown",
      "source": [
        "Import the fashion MNIST dataset"
      ],
      "metadata": {
        "id": "SPVlNwUYKaiU"
      }
    },
    {
      "cell_type": "code",
      "source": [
        "dataset,metadata = tfds.load('fashion_mnist',as_supervised=True,with_info=True)\n",
        "train_dataset,test_dataset = dataset['train'], dataset['test']"
      ],
      "metadata": {
        "id": "r97Ujj6iImWG"
      },
      "execution_count": 34,
      "outputs": []
    },
    {
      "cell_type": "markdown",
      "source": [
        "Labels available"
      ],
      "metadata": {
        "id": "MeQRGnaVJfEr"
      }
    },
    {
      "cell_type": "code",
      "source": [
        "class_names = metadata.features['label'].names\n",
        "print(\"Class names : {}\".format(class_names))"
      ],
      "metadata": {
        "id": "5tm6Yke7NRQB",
        "colab": {
          "base_uri": "https://localhost:8080/"
        },
        "outputId": "8bdcb26d-e739-42f4-beed-809cb3aed092"
      },
      "execution_count": 35,
      "outputs": [
        {
          "output_type": "stream",
          "name": "stdout",
          "text": [
            "Class names : ['T-shirt/top', 'Trouser', 'Pullover', 'Dress', 'Coat', 'Sandal', 'Shirt', 'Sneaker', 'Bag', 'Ankle boot']\n"
          ]
        }
      ]
    },
    {
      "cell_type": "markdown",
      "source": [
        "Exploring the data"
      ],
      "metadata": {
        "id": "Izc3v-T3JiYL"
      }
    },
    {
      "cell_type": "code",
      "source": [
        "num_train_examples = metadata.splits['train'].num_examples\n",
        "num_test_examples = metadata.splits['test'].num_examples\n",
        "print(\"Number of training examples: {}\".format(num_train_examples))\n",
        "print(\"Number of test examples: {}\".format(num_test_examples))"
      ],
      "metadata": {
        "colab": {
          "base_uri": "https://localhost:8080/"
        },
        "id": "jZiliKNoIiob",
        "outputId": "7f7b397f-cc6e-4b91-fd41-bb8bf27ded1d"
      },
      "execution_count": 36,
      "outputs": [
        {
          "output_type": "stream",
          "name": "stdout",
          "text": [
            "Number of training examples: 60000\n",
            "Number of test examples: 10000\n"
          ]
        }
      ]
    },
    {
      "cell_type": "markdown",
      "source": [
        "Preprocess the data"
      ],
      "metadata": {
        "id": "VPDIiHhzJmVP"
      }
    },
    {
      "cell_type": "code",
      "source": [
        "def normalize(images,labels):\n",
        "  images = tf.cast(images,tf.float32)\n",
        "  images/=255\n",
        "  return images,labels\n",
        "\n",
        "#The map function applies normalization to each element in train and test sets\n",
        "train_dataset = train_dataset.map(normalize) \n",
        "test_dataset = test_dataset.map(normalize) \n",
        "\n",
        "#First loading of dataset takes time, caching helps to store it in memmory\n",
        "train_dataset = train_dataset.cache()\n",
        "test_dataset = test_dataset.cache()"
      ],
      "metadata": {
        "id": "R4FHQf2jJUSm"
      },
      "execution_count": 37,
      "outputs": []
    },
    {
      "cell_type": "markdown",
      "source": [
        "Explore processed image"
      ],
      "metadata": {
        "id": "4gOv0iSTM4Ra"
      }
    },
    {
      "cell_type": "code",
      "source": [
        "# Take single image and remove color dimension\n",
        "for image, label in test_dataset.take(1):\n",
        "    break\n",
        "image = image.numpy().reshape((28,28))\n",
        "\n",
        "#Plot the image\n",
        "plt.figure()\n",
        "plt.imshow(image, cmap=plt.cm.binary)\n",
        "plt.colorbar()\n",
        "plt.grid(False)\n",
        "plt.show()"
      ],
      "metadata": {
        "colab": {
          "base_uri": "https://localhost:8080/",
          "height": 269
        },
        "id": "yqwuATECM0fp",
        "outputId": "022ff54d-bcac-41d8-939c-ec283bcfe801"
      },
      "execution_count": 38,
      "outputs": [
        {
          "output_type": "display_data",
          "data": {
            "text/plain": [
              "<Figure size 432x288 with 2 Axes>"
            ],
            "image/png": "[encoded data removed]"
          },
          "metadata": {
            "needs_background": "light"
          }
        }
      ]
    },
    {
      "cell_type": "code",
      "source": [
        "# verification of 25 images from train data with labels\n",
        "plt.figure(figsize=(10,10))\n",
        "for i,(image,label) in enumerate(train_dataset.take(25)):\n",
        "  image = image.numpy().reshape((28,28))\n",
        "  plt.subplot(5,5,i+1)\n",
        "  plt.xticks([])\n",
        "  plt.yticks([])\n",
        "  plt.grid(False)\n",
        "  plt.imshow(image,cmap = plt.cm.binary)\n",
        "  plt.xlabel(class_names[label])\n",
        "plt.show()"
      ],
      "metadata": {
        "colab": {
          "base_uri": "https://localhost:8080/",
          "height": 589
        },
        "id": "HslRmNnVQayL",
        "outputId": "c11b362c-e454-435f-c6a8-1018d234a6f2"
      },
      "execution_count": 39,
      "outputs": [
        {
          "output_type": "display_data",
          "data": {
            "text/plain": [
              "<Figure size 720x720 with 25 Axes>"
            ],
            "image/png": "[encoded data removed]"
          },
          "metadata": {}
        }
      ]
    },
    {
      "cell_type": "markdown",
      "source": [
        "Buliding Layers\n"
      ],
      "metadata": {
        "id": "GGj4kOH-fzre"
      }
    },
    {
      "cell_type": "code",
      "source": [
        "model = tf.keras.Sequential([\n",
        "    tf.keras.layers.Conv2D(32,(3,3),padding='same',activation=tf.nn.relu,input_shape=(28,28,1)),\n",
        "    tf.keras.layers.MaxPooling2D((2,2),strides=2),\n",
        "    tf.keras.layers.Conv2D(64,(3,3),padding='same',activation=tf.nn.relu),\n",
        "    tf.keras.layers.MaxPooling2D((2,2),strides=2),\n",
        "    tf.keras.layers.Flatten(),\n",
        "    tf.keras.layers.Dense(128,activation=tf.nn.relu),\n",
        "    tf.keras.layers.Dense(10,activation=tf.nn.softmax)\n",
        "]) "
      ],
      "metadata": {
        "id": "pOcKMzhAV8-i"
      },
      "execution_count": 40,
      "outputs": []
    },
    {
      "cell_type": "markdown",
      "source": [
        "Compile the model"
      ],
      "metadata": {
        "id": "ybXyr4tnhrXe"
      }
    },
    {
      "cell_type": "code",
      "source": [
        "model.compile(optimizer='adam',\n",
        "              loss=tf.keras.losses.SparseCategoricalCrossentropy(),\n",
        "              metrics=['accuracy'])"
      ],
      "metadata": {
        "id": "0TWoq50JhiHp"
      },
      "execution_count": 41,
      "outputs": []
    },
    {
      "cell_type": "markdown",
      "source": [
        "Train the model"
      ],
      "metadata": {
        "id": "rfWNwf33inOf"
      }
    },
    {
      "cell_type": "code",
      "source": [
        "BATCH_SIZE = 32\n",
        "train_dataset = train_dataset.cache().repeat().shuffle(num_train_examples).batch(BATCH_SIZE)\n",
        "test_dataset = test_dataset.cache().batch(BATCH_SIZE)"
      ],
      "metadata": {
        "id": "TqZyNIQgh9RE"
      },
      "execution_count": 42,
      "outputs": []
    },
    {
      "cell_type": "code",
      "source": [
        "model.fit(train_dataset, epochs=10, steps_per_epoch=math.ceil(num_train_examples/BATCH_SIZE))"
      ],
      "metadata": {
        "colab": {
          "base_uri": "https://localhost:8080/"
        },
        "id": "aVIv87fll0Dd",
        "outputId": "4b3aa623-571b-470d-efe7-b1ecee75fd54"
      },
      "execution_count": 43,
      "outputs": [
        {
          "output_type": "stream",
          "name": "stdout",
          "text": [
            "Epoch 1/10\n",
            "1875/1875 [==============================] - 89s 44ms/step - loss: 0.3968 - accuracy: 0.8557\n",
            "Epoch 2/10\n",
            "1875/1875 [==============================] - 71s 38ms/step - loss: 0.2587 - accuracy: 0.9062\n",
            "Epoch 3/10\n",
            "1875/1875 [==============================] - 69s 37ms/step - loss: 0.2144 - accuracy: 0.9194\n",
            "Epoch 4/10\n",
            "1875/1875 [==============================] - 70s 37ms/step - loss: 0.1812 - accuracy: 0.9317\n",
            "Epoch 5/10\n",
            "1875/1875 [==============================] - 69s 37ms/step - loss: 0.1564 - accuracy: 0.9418\n",
            "Epoch 6/10\n",
            "1875/1875 [==============================] - 69s 37ms/step - loss: 0.1299 - accuracy: 0.9521\n",
            "Epoch 7/10\n",
            "1875/1875 [==============================] - 69s 37ms/step - loss: 0.1125 - accuracy: 0.9582\n",
            "Epoch 8/10\n",
            "1875/1875 [==============================] - 69s 37ms/step - loss: 0.0970 - accuracy: 0.9638\n",
            "Epoch 9/10\n",
            "1875/1875 [==============================] - 69s 37ms/step - loss: 0.0793 - accuracy: 0.9705\n",
            "Epoch 10/10\n",
            "1875/1875 [==============================] - 69s 37ms/step - loss: 0.0684 - accuracy: 0.9750\n"
          ]
        },
        {
          "output_type": "execute_result",
          "data": {
            "text/plain": [
              "<keras.callbacks.History at 0x7f2bb46bcad0>"
            ]
          },
          "metadata": {},
          "execution_count": 43
        }
      ]
    },
    {
      "cell_type": "markdown",
      "source": [
        "Evaluate accuracy"
      ],
      "metadata": {
        "id": "6F_kOC0Omvas"
      }
    },
    {
      "cell_type": "code",
      "source": [
        "test_loss, test_accuracy = model.evaluate(test_dataset, steps=math.ceil(num_test_examples/32))\n",
        "print('Accuracy on the test set :',test_accuracy)"
      ],
      "metadata": {
        "colab": {
          "base_uri": "https://localhost:8080/"
        },
        "id": "JhSRHudWmjkG",
        "outputId": "bdffedac-8be4-4861-e042-c63281ebcbc2"
      },
      "execution_count": 44,
      "outputs": [
        {
          "output_type": "stream",
          "name": "stdout",
          "text": [
            "313/313 [==============================] - 6s 17ms/step - loss: 0.3123 - accuracy: 0.9187\n",
            "Accuracy on the test set : 0.9186999797821045\n"
          ]
        }
      ]
    },
    {
      "cell_type": "markdown",
      "source": [
        "Make predictions and explore"
      ],
      "metadata": {
        "id": "fqdsPQ3b5M1_"
      }
    },
    {
      "cell_type": "code",
      "source": [
        "for test_images, test_labels in test_dataset.take(1):\n",
        "  test_images = test_images.numpy()\n",
        "  test_labels = test_labels.numpy()\n",
        "  predictions = model.predict(test_images)"
      ],
      "metadata": {
        "id": "2qb5qsJ6nYF4"
      },
      "execution_count": 45,
      "outputs": []
    },
    {
      "cell_type": "code",
      "source": [
        "predictions.shape"
      ],
      "metadata": {
        "colab": {
          "base_uri": "https://localhost:8080/"
        },
        "id": "L4MIVOo05SjX",
        "outputId": "94465c42-84fd-41ff-9625-5026fd17406a"
      },
      "execution_count": 46,
      "outputs": [
        {
          "output_type": "execute_result",
          "data": {
            "text/plain": [
              "(32, 10)"
            ]
          },
          "metadata": {},
          "execution_count": 46
        }
      ]
    },
    {
      "cell_type": "code",
      "source": [
        "predictions[0]"
      ],
      "metadata": {
        "colab": {
          "base_uri": "https://localhost:8080/"
        },
        "id": "jjd5Cr_g5_OT",
        "outputId": "a5d7a5c6-32b3-4d7e-96b7-9fa67e113aa4"
      },
      "execution_count": 47,
      "outputs": [
        {
          "output_type": "execute_result",
          "data": {
            "text/plain": [
              "array([3.9306506e-08, 1.6896427e-08, 1.6297707e-03, 6.7019723e-10,\n",
              "       9.8311377e-01, 1.3970801e-09, 1.5256495e-02, 7.8281361e-11,\n",
              "       2.0640902e-08, 1.7719197e-08], dtype=float32)"
            ]
          },
          "metadata": {},
          "execution_count": 47
        }
      ]
    },
    {
      "cell_type": "code",
      "source": [
        "np.argmax(predictions[0])"
      ],
      "metadata": {
        "colab": {
          "base_uri": "https://localhost:8080/"
        },
        "id": "xR3Jc4DH6Bfz",
        "outputId": "2a92e596-d2c1-4749-b21d-0254bed8f4d2"
      },
      "execution_count": 48,
      "outputs": [
        {
          "output_type": "execute_result",
          "data": {
            "text/plain": [
              "4"
            ]
          },
          "metadata": {},
          "execution_count": 48
        }
      ]
    },
    {
      "cell_type": "code",
      "source": [
        "test_labels[0]"
      ],
      "metadata": {
        "colab": {
          "base_uri": "https://localhost:8080/"
        },
        "id": "j51Su-MO6VAg",
        "outputId": "1f46af6a-ba44-4d28-dab3-87c54082417a"
      },
      "execution_count": 49,
      "outputs": [
        {
          "output_type": "execute_result",
          "data": {
            "text/plain": [
              "4"
            ]
          },
          "metadata": {},
          "execution_count": 49
        }
      ]
    },
    {
      "cell_type": "markdown",
      "source": [
        "Graph of all 32 predictions"
      ],
      "metadata": {
        "id": "MLh1srJg6dXG"
      }
    },
    {
      "cell_type": "code",
      "source": [
        "def plot_image(i, predictions_array, true_labels, images):\n",
        "  predictions_array, true_label, img = predictions_array[i], true_labels[i], images[i]\n",
        "  plt.grid(False)\n",
        "  plt.xticks([])\n",
        "  plt.yticks([])\n",
        "\n",
        "  plt.imshow(img[...,0],cmap=plt.cm.binary)\n",
        "\n",
        "  predicted_label = np.argmax(predictions_array)\n",
        "  if predicted_label == true_label:\n",
        "    color = 'blue'\n",
        "  else:\n",
        "    color = 'red'\n",
        "\n",
        "  plt.xlabel(\"{}{:2.0f}% ({})\".format(class_names[predicted_label],\n",
        "                                      100*np.max(predictions_array),\n",
        "                                      class_names[true_label]),\n",
        "                                      color = color)\n",
        "  \n",
        "def plot_value_array(i, predictions_array, true_labels):\n",
        "  predictions_array, true_label = predictions_array[i], true_labels[i]\n",
        "  plt.grid(False)\n",
        "  plt.xticks([])\n",
        "  plt.yticks([])\n",
        "  thisplot = plt.bar(range(10),predictions_array, color=\"#777777\")\n",
        "  plt.ylim([0,1])\n",
        "  predicted_label = np.argmax(predictions_array)\n",
        "\n",
        "  thisplot[predicted_label].set_color('red')\n",
        "  thisplot[true_label].set_color('blue')"
      ],
      "metadata": {
        "id": "1pYGldZJ6ZUO"
      },
      "execution_count": 50,
      "outputs": []
    },
    {
      "cell_type": "code",
      "source": [
        "i=0\n",
        "plt.figure(figsize=(6,3))\n",
        "plt.subplot(1,2,1)\n",
        "plot_image(i,predictions,test_labels, test_images)\n",
        "plt.subplot(1,2,2)\n",
        "plot_value_array(i,predictions,test_labels)"
      ],
      "metadata": {
        "colab": {
          "base_uri": "https://localhost:8080/",
          "height": 203
        },
        "id": "W66xLGdICpL7",
        "outputId": "99528c6a-ad18-49d8-cf73-e5234fd1aabb"
      },
      "execution_count": 51,
      "outputs": [
        {
          "output_type": "display_data",
          "data": {
            "text/plain": [
              "<Figure size 432x216 with 2 Axes>"
            ],
            "image/png": "[encoded data removed]"
          },
          "metadata": {}
        }
      ]
    },
    {
      "cell_type": "code",
      "source": [
        "i=12\n",
        "plt.figure(figsize=(6,3))\n",
        "plt.subplot(1,2,1)\n",
        "plot_image(i,predictions,test_labels, test_images)\n",
        "plt.subplot(1,2,2)\n",
        "plot_value_array(i,predictions,test_labels)"
      ],
      "metadata": {
        "colab": {
          "base_uri": "https://localhost:8080/",
          "height": 203
        },
        "id": "LSS266QIDIeh",
        "outputId": "53365bf5-4c40-417c-cfda-ebf5c046b7e7"
      },
      "execution_count": 52,
      "outputs": [
        {
          "output_type": "display_data",
          "data": {
            "text/plain": [
              "<Figure size 432x216 with 2 Axes>"
            ],
            "image/png": "[encoded data removed]"
          },
          "metadata": {}
        }
      ]
    },
    {
      "cell_type": "markdown",
      "source": [
        "Moreee predictions"
      ],
      "metadata": {
        "id": "OEPxU1R6DS48"
      }
    },
    {
      "cell_type": "code",
      "source": [
        "num_rows = 5\n",
        "num_cols = 3\n",
        "num_images = num_rows*num_cols\n",
        "plt.figure(figsize = (2*2*num_cols,2*num_rows))\n",
        "for i in range(num_images):\n",
        "  plt.subplot(num_rows, 2*num_cols, 2*i+1)\n",
        "  plot_image(i,predictions,test_labels,test_images)\n",
        "  plt.subplot(num_rows, 2*num_cols, 2*i+2)\n",
        "  plot_value_array(i,predictions,test_labels)"
      ],
      "metadata": {
        "colab": {
          "base_uri": "https://localhost:8080/",
          "height": 589
        },
        "id": "t675FvDBDKUk",
        "outputId": "37998136-4f30-46a5-fe89-c63a3fa70ad4"
      },
      "execution_count": 53,
      "outputs": [
        {
          "output_type": "display_data",
          "data": {
            "text/plain": [
              "<Figure size 864x720 with 30 Axes>"
            ],
            "image/png": "[encoded data removed]"
          },
          "metadata": {}
        }
      ]
    },
    {
      "cell_type": "markdown",
      "source": [
        "Image from test data set"
      ],
      "metadata": {
        "id": "nbXhhsxlEmCX"
      }
    },
    {
      "cell_type": "code",
      "source": [
        "img = test_images[0]\n",
        "print(img.shape)"
      ],
      "metadata": {
        "colab": {
          "base_uri": "https://localhost:8080/"
        },
        "id": "dykj_gWuEklV",
        "outputId": "492200b7-0490-4292-d13d-a6f66e90638c"
      },
      "execution_count": 54,
      "outputs": [
        {
          "output_type": "stream",
          "name": "stdout",
          "text": [
            "(28, 28, 1)\n"
          ]
        }
      ]
    },
    {
      "cell_type": "code",
      "source": [
        "# tf.keras make prediction on batches so add to list\n",
        "img = np.array([img])\n",
        "print(img.shape)"
      ],
      "metadata": {
        "colab": {
          "base_uri": "https://localhost:8080/"
        },
        "id": "47WCCXnaEX5O",
        "outputId": "fcaf5bbf-e4a1-4e24-fc97-d99f42583201"
      },
      "execution_count": 55,
      "outputs": [
        {
          "output_type": "stream",
          "name": "stdout",
          "text": [
            "(1, 28, 28, 1)\n"
          ]
        }
      ]
    },
    {
      "cell_type": "code",
      "source": [
        "predictions_single = model.predict(img)\n",
        "print(predictions_single)"
      ],
      "metadata": {
        "colab": {
          "base_uri": "https://localhost:8080/"
        },
        "id": "z3BVKVwFE10q",
        "outputId": "1d2b3f9d-afdf-4c6d-d22f-78304b28fa6c"
      },
      "execution_count": 56,
      "outputs": [
        {
          "output_type": "stream",
          "name": "stdout",
          "text": [
            "[[3.9306357e-08 1.6896395e-08 1.6297675e-03 6.7019723e-10 9.8311377e-01\n",
            "  1.3970775e-09 1.5256480e-02 7.8281215e-11 2.0640863e-08 1.7719163e-08]]\n"
          ]
        }
      ]
    },
    {
      "cell_type": "code",
      "source": [
        "plot_value_array(0,predictions_single,test_labels)\n",
        "_ = plt.xticks(range(10),class_names,rotation=45)"
      ],
      "metadata": {
        "colab": {
          "base_uri": "https://localhost:8080/",
          "height": 300
        },
        "id": "fSsgI2EhFXLt",
        "outputId": "d17341d5-2619-490c-e02f-20479c411294"
      },
      "execution_count": 57,
      "outputs": [
        {
          "output_type": "display_data",
          "data": {
            "text/plain": [
              "<Figure size 432x288 with 1 Axes>"
            ],
            "image/png": "[encoded data removed]"
          },
          "metadata": {
            "needs_background": "light"
          }
        }
      ]
    },
    {
      "cell_type": "code",
      "source": [
        "np.argmax(predictions_single)"
      ],
      "metadata": {
        "colab": {
          "base_uri": "https://localhost:8080/"
        },
        "id": "Ukv21YYhFGQ1",
        "outputId": "1b617406-c60f-4cae-ee60-a2872fbf224a"
      },
      "execution_count": 58,
      "outputs": [
        {
          "output_type": "execute_result",
          "data": {
            "text/plain": [
              "4"
            ]
          },
          "metadata": {},
          "execution_count": 58
        }
      ]
    },
    {
      "cell_type": "code",
      "source": [
        ""
      ],
      "metadata": {
        "id": "ELF_V2YcFOZn"
      },
      "execution_count": 58,
      "outputs": []
    }
  ]
}